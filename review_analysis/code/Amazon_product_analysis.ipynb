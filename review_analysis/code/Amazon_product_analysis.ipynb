{
  "cells": [
    {
      "cell_type": "code",
      "execution_count": null,
      "metadata": {
        "colab": {
          "base_uri": "https://localhost:8080/"
        },
        "id": "jdbTiFPjbq8N",
        "outputId": "13d2b7f9-343c-4a6d-daac-ec142fc05d6b"
      },
      "outputs": [
        {
          "name": "stdout",
          "output_type": "stream",
          "text": [
            "Mounted at /content/drive\n"
          ]
        }
      ],
      "source": [
        "from google.colab import drive\n",
        "drive.mount('/content/drive')"
      ]
    },
    {
      "cell_type": "code",
      "execution_count": 3,
      "metadata": {
        "colab": {
          "base_uri": "https://localhost:8080/"
        },
        "id": "IcsyQADrfcMF",
        "outputId": "3c761966-aad1-49d9-be04-97abe30e1135"
      },
      "outputs": [
        {
          "name": "stdout",
          "output_type": "stream",
          "text": [
            "\u001b[33mWARNING: Ignoring invalid distribution -yyaml (/usr/local/lib/python3.7/dist-packages)\u001b[0m\n",
            "\u001b[33mWARNING: Ignoring invalid distribution -yyaml (/usr/local/lib/python3.7/dist-packages)\u001b[0m\n",
            "Requirement already satisfied: transformers in /usr/local/lib/python3.7/dist-packages (4.12.5)\n",
            "Requirement already satisfied: regex!=2019.12.17 in /usr/local/lib/python3.7/dist-packages (from transformers) (2019.12.20)\n",
            "Requirement already satisfied: filelock in /usr/local/lib/python3.7/dist-packages (from transformers) (3.4.0)\n",
            "Requirement already satisfied: huggingface-hub<1.0,>=0.1.0 in /usr/local/lib/python3.7/dist-packages (from transformers) (0.2.1)\n",
            "Requirement already satisfied: requests in /usr/local/lib/python3.7/dist-packages (from transformers) (2.23.0)\n",
            "Requirement already satisfied: numpy>=1.17 in /usr/local/lib/python3.7/dist-packages (from transformers) (1.19.5)\n",
            "Requirement already satisfied: tqdm>=4.27 in /usr/local/lib/python3.7/dist-packages (from transformers) (4.62.3)\n",
            "Requirement already satisfied: importlib-metadata in /usr/local/lib/python3.7/dist-packages (from transformers) (4.8.2)\n",
            "Requirement already satisfied: pyyaml>=5.1 in /usr/local/lib/python3.7/dist-packages (from transformers) (6.0)\n",
            "Requirement already satisfied: sacremoses in /usr/local/lib/python3.7/dist-packages (from transformers) (0.0.46)\n",
            "Requirement already satisfied: tokenizers<0.11,>=0.10.1 in /usr/local/lib/python3.7/dist-packages (from transformers) (0.10.3)\n",
            "Requirement already satisfied: packaging>=20.0 in /usr/local/lib/python3.7/dist-packages (from transformers) (21.3)\n",
            "Requirement already satisfied: typing-extensions>=3.7.4.3 in /usr/local/lib/python3.7/dist-packages (from huggingface-hub<1.0,>=0.1.0->transformers) (3.10.0.2)\n",
            "Requirement already satisfied: pyparsing!=3.0.5,>=2.0.2 in /usr/local/lib/python3.7/dist-packages (from packaging>=20.0->transformers) (3.0.6)\n",
            "Requirement already satisfied: zipp>=0.5 in /usr/local/lib/python3.7/dist-packages (from importlib-metadata->transformers) (3.6.0)\n",
            "Requirement already satisfied: urllib3!=1.25.0,!=1.25.1,<1.26,>=1.21.1 in /usr/local/lib/python3.7/dist-packages (from requests->transformers) (1.24.3)\n",
            "Requirement already satisfied: chardet<4,>=3.0.2 in /usr/local/lib/python3.7/dist-packages (from requests->transformers) (3.0.4)\n",
            "Requirement already satisfied: idna<3,>=2.5 in /usr/local/lib/python3.7/dist-packages (from requests->transformers) (2.10)\n",
            "Requirement already satisfied: certifi>=2017.4.17 in /usr/local/lib/python3.7/dist-packages (from requests->transformers) (2021.10.8)\n",
            "Requirement already satisfied: six in /usr/local/lib/python3.7/dist-packages (from sacremoses->transformers) (1.15.0)\n",
            "Requirement already satisfied: joblib in /usr/local/lib/python3.7/dist-packages (from sacremoses->transformers) (1.1.0)\n",
            "Requirement already satisfied: click in /usr/local/lib/python3.7/dist-packages (from sacremoses->transformers) (7.1.2)\n",
            "\u001b[33mWARNING: Ignoring invalid distribution -yyaml (/usr/local/lib/python3.7/dist-packages)\u001b[0m\n",
            "\u001b[33mWARNING: Ignoring invalid distribution -yyaml (/usr/local/lib/python3.7/dist-packages)\u001b[0m\n",
            "\u001b[33mWARNING: Ignoring invalid distribution -yyaml (/usr/local/lib/python3.7/dist-packages)\u001b[0m\n",
            "Requirement already satisfied: keybert in /usr/local/lib/python3.7/dist-packages (0.5.0)\n",
            "Requirement already satisfied: rich>=10.4.0 in /usr/local/lib/python3.7/dist-packages (from keybert) (10.15.2)\n",
            "Requirement already satisfied: scikit-learn>=0.22.2 in /usr/local/lib/python3.7/dist-packages (from keybert) (1.0.1)\n",
            "Requirement already satisfied: sentence-transformers>=0.3.8 in /usr/local/lib/python3.7/dist-packages (from keybert) (2.1.0)\n",
            "Requirement already satisfied: numpy>=1.18.5 in /usr/local/lib/python3.7/dist-packages (from keybert) (1.19.5)\n",
            "Requirement already satisfied: typing-extensions<5.0,>=3.7.4 in /usr/local/lib/python3.7/dist-packages (from rich>=10.4.0->keybert) (3.10.0.2)\n",
            "Requirement already satisfied: pygments<3.0.0,>=2.6.0 in /usr/local/lib/python3.7/dist-packages (from rich>=10.4.0->keybert) (2.6.1)\n",
            "Requirement already satisfied: commonmark<0.10.0,>=0.9.0 in /usr/local/lib/python3.7/dist-packages (from rich>=10.4.0->keybert) (0.9.1)\n",
            "Requirement already satisfied: colorama<0.5.0,>=0.4.0 in /usr/local/lib/python3.7/dist-packages (from rich>=10.4.0->keybert) (0.4.4)\n",
            "Requirement already satisfied: joblib>=0.11 in /usr/local/lib/python3.7/dist-packages (from scikit-learn>=0.22.2->keybert) (1.1.0)\n",
            "Requirement already satisfied: threadpoolctl>=2.0.0 in /usr/local/lib/python3.7/dist-packages (from scikit-learn>=0.22.2->keybert) (3.0.0)\n",
            "Requirement already satisfied: scipy>=1.1.0 in /usr/local/lib/python3.7/dist-packages (from scikit-learn>=0.22.2->keybert) (1.4.1)\n",
            "Requirement already satisfied: tqdm in /usr/local/lib/python3.7/dist-packages (from sentence-transformers>=0.3.8->keybert) (4.62.3)\n",
            "Requirement already satisfied: torch>=1.6.0 in /usr/local/lib/python3.7/dist-packages (from sentence-transformers>=0.3.8->keybert) (1.10.0+cu111)\n",
            "Requirement already satisfied: huggingface-hub in /usr/local/lib/python3.7/dist-packages (from sentence-transformers>=0.3.8->keybert) (0.2.1)\n",
            "Requirement already satisfied: torchvision in /usr/local/lib/python3.7/dist-packages (from sentence-transformers>=0.3.8->keybert) (0.11.1+cu111)\n",
            "Requirement already satisfied: sentencepiece in /usr/local/lib/python3.7/dist-packages (from sentence-transformers>=0.3.8->keybert) (0.1.96)\n",
            "Requirement already satisfied: tokenizers>=0.10.3 in /usr/local/lib/python3.7/dist-packages (from sentence-transformers>=0.3.8->keybert) (0.10.3)\n",
            "Requirement already satisfied: nltk in /usr/local/lib/python3.7/dist-packages (from sentence-transformers>=0.3.8->keybert) (3.2.5)\n",
            "Requirement already satisfied: transformers<5.0.0,>=4.6.0 in /usr/local/lib/python3.7/dist-packages (from sentence-transformers>=0.3.8->keybert) (4.12.5)\n",
            "Requirement already satisfied: requests in /usr/local/lib/python3.7/dist-packages (from transformers<5.0.0,>=4.6.0->sentence-transformers>=0.3.8->keybert) (2.23.0)\n",
            "Requirement already satisfied: pyyaml>=5.1 in /usr/local/lib/python3.7/dist-packages (from transformers<5.0.0,>=4.6.0->sentence-transformers>=0.3.8->keybert) (6.0)\n",
            "Requirement already satisfied: importlib-metadata in /usr/local/lib/python3.7/dist-packages (from transformers<5.0.0,>=4.6.0->sentence-transformers>=0.3.8->keybert) (4.8.2)\n",
            "Requirement already satisfied: packaging>=20.0 in /usr/local/lib/python3.7/dist-packages (from transformers<5.0.0,>=4.6.0->sentence-transformers>=0.3.8->keybert) (21.3)\n",
            "Requirement already satisfied: filelock in /usr/local/lib/python3.7/dist-packages (from transformers<5.0.0,>=4.6.0->sentence-transformers>=0.3.8->keybert) (3.4.0)\n",
            "Requirement already satisfied: sacremoses in /usr/local/lib/python3.7/dist-packages (from transformers<5.0.0,>=4.6.0->sentence-transformers>=0.3.8->keybert) (0.0.46)\n",
            "Requirement already satisfied: regex!=2019.12.17 in /usr/local/lib/python3.7/dist-packages (from transformers<5.0.0,>=4.6.0->sentence-transformers>=0.3.8->keybert) (2019.12.20)\n",
            "Requirement already satisfied: pyparsing!=3.0.5,>=2.0.2 in /usr/local/lib/python3.7/dist-packages (from packaging>=20.0->transformers<5.0.0,>=4.6.0->sentence-transformers>=0.3.8->keybert) (3.0.6)\n",
            "Requirement already satisfied: zipp>=0.5 in /usr/local/lib/python3.7/dist-packages (from importlib-metadata->transformers<5.0.0,>=4.6.0->sentence-transformers>=0.3.8->keybert) (3.6.0)\n",
            "Requirement already satisfied: six in /usr/local/lib/python3.7/dist-packages (from nltk->sentence-transformers>=0.3.8->keybert) (1.15.0)\n",
            "Requirement already satisfied: urllib3!=1.25.0,!=1.25.1,<1.26,>=1.21.1 in /usr/local/lib/python3.7/dist-packages (from requests->transformers<5.0.0,>=4.6.0->sentence-transformers>=0.3.8->keybert) (1.24.3)\n",
            "Requirement already satisfied: certifi>=2017.4.17 in /usr/local/lib/python3.7/dist-packages (from requests->transformers<5.0.0,>=4.6.0->sentence-transformers>=0.3.8->keybert) (2021.10.8)\n",
            "Requirement already satisfied: chardet<4,>=3.0.2 in /usr/local/lib/python3.7/dist-packages (from requests->transformers<5.0.0,>=4.6.0->sentence-transformers>=0.3.8->keybert) (3.0.4)\n",
            "Requirement already satisfied: idna<3,>=2.5 in /usr/local/lib/python3.7/dist-packages (from requests->transformers<5.0.0,>=4.6.0->sentence-transformers>=0.3.8->keybert) (2.10)\n",
            "Requirement already satisfied: click in /usr/local/lib/python3.7/dist-packages (from sacremoses->transformers<5.0.0,>=4.6.0->sentence-transformers>=0.3.8->keybert) (7.1.2)\n",
            "Requirement already satisfied: pillow!=8.3.0,>=5.3.0 in /usr/local/lib/python3.7/dist-packages (from torchvision->sentence-transformers>=0.3.8->keybert) (7.1.2)\n",
            "\u001b[33mWARNING: Ignoring invalid distribution -yyaml (/usr/local/lib/python3.7/dist-packages)\u001b[0m\n",
            "[nltk_data] Downloading package stopwords to /root/nltk_data...\n",
            "[nltk_data]   Package stopwords is already up-to-date!\n"
          ]
        }
      ],
      "source": [
        "# Imports and library installation\n",
        "!pip install transformers\n",
        "from transformers import DistilBertTokenizerFast\n",
        "from transformers import TFDistilBertForSequenceClassification\n",
        "\n",
        "!pip install keybert\n",
        "from keybert import KeyBERT\n",
        "\n",
        "import tensorflow_datasets as tfds\n",
        "import matplotlib.pyplot as plt\n",
        "import tensorflow as tf\n",
        "import numpy as np\n",
        "import pandas as pd\n",
        "import pickle\n",
        "import re\n",
        "\n",
        "from sklearn import metrics\n",
        "from sklearn.cluster import KMeans\n",
        "from sklearn.metrics import davies_bouldin_score\n",
        "from sklearn.model_selection import train_test_split\n",
        "\n",
        "\n",
        "import nltk\n",
        "nltk.download('stopwords')\n",
        "from nltk.corpus import stopwords\n",
        "from nltk.stem.porter import PorterStemmer"
      ]
    },
    {
      "cell_type": "markdown",
      "metadata": {
        "id": "NbyWoPjvlbzF"
      },
      "source": [
        "# New Section"
      ]
    },
    {
      "cell_type": "code",
      "execution_count": null,
      "metadata": {
        "colab": {
          "base_uri": "https://localhost:8080/"
        },
        "id": "UTfNHU1GHGY6",
        "outputId": "be3a24d2-8ccd-41b8-9469-a370054bb2f2"
      },
      "outputs": [
        {
          "name": "stdout",
          "output_type": "stream",
          "text": [
            "Num GPUs Available:  1\n"
          ]
        }
      ],
      "source": [
        "# Confirm that we are using GPU's which will speed up our processing\n",
        "num_gpus_available = len(tf.config.experimental.list_physical_devices('GPU'))\n",
        "print(\"Num GPUs Available: \", num_gpus_available)\n",
        "assert num_gpus_available > 0"
      ]
    },
    {
      "cell_type": "code",
      "execution_count": null,
      "metadata": {
        "colab": {
          "base_uri": "https://localhost:8080/"
        },
        "id": "9Xg265TdvP1Q",
        "outputId": "7743b617-06df-4fd7-e241-2b02017aba3b"
      },
      "outputs": [
        {
          "name": "stderr",
          "output_type": "stream",
          "text": [
            "INFO:absl:Load dataset info from /root/tensorflow_datasets/amazon_us_reviews/Mobile_Electronics_v1_00/0.1.0\n",
            "INFO:absl:Reusing dataset amazon_us_reviews (/root/tensorflow_datasets/amazon_us_reviews/Mobile_Electronics_v1_00/0.1.0)\n",
            "INFO:absl:Constructing tf.data.Dataset for split train, from /root/tensorflow_datasets/amazon_us_reviews/Mobile_Electronics_v1_00/0.1.0\n"
          ]
        }
      ],
      "source": [
        "# Load the dataset \n",
        "ds = tfds.load('amazon_us_reviews/Mobile_Electronics_v1_00', split='train', shuffle_files=True)\n",
        "df = tfds.as_dataframe(ds)\n",
        "assert isinstance(ds, tf.data.Dataset)"
      ]
    },
    {
      "cell_type": "code",
      "execution_count": null,
      "metadata": {
        "colab": {
          "base_uri": "https://localhost:8080/",
          "height": 521
        },
        "id": "MBfSPpnRwSva",
        "outputId": "cb539a09-b29b-4f64-bdf6-5937e5f692b6"
      },
      "outputs": [
        {
          "data": {
            "text/html": [
              "<div>\n",
              "<style scoped>\n",
              "    .dataframe tbody tr th:only-of-type {\n",
              "        vertical-align: middle;\n",
              "    }\n",
              "\n",
              "    .dataframe tbody tr th {\n",
              "        vertical-align: top;\n",
              "    }\n",
              "\n",
              "    .dataframe thead th {\n",
              "        text-align: right;\n",
              "    }\n",
              "</style>\n",
              "<table border=\"1\" class=\"dataframe\">\n",
              "  <thead>\n",
              "    <tr style=\"text-align: right;\">\n",
              "      <th></th>\n",
              "      <th>data/customer_id</th>\n",
              "      <th>data/helpful_votes</th>\n",
              "      <th>data/marketplace</th>\n",
              "      <th>data/product_category</th>\n",
              "      <th>data/product_id</th>\n",
              "      <th>data/product_parent</th>\n",
              "      <th>data/product_title</th>\n",
              "      <th>data/review_body</th>\n",
              "      <th>data/review_date</th>\n",
              "      <th>data/review_headline</th>\n",
              "      <th>data/review_id</th>\n",
              "      <th>data/star_rating</th>\n",
              "      <th>data/total_votes</th>\n",
              "      <th>data/verified_purchase</th>\n",
              "      <th>data/vine</th>\n",
              "      <th>Sentiment</th>\n",
              "      <th>short_review</th>\n",
              "      <th>product_id</th>\n",
              "      <th>product_parent</th>\n",
              "      <th>product_title</th>\n",
              "    </tr>\n",
              "  </thead>\n",
              "  <tbody>\n",
              "    <tr>\n",
              "      <th>0</th>\n",
              "      <td>b'20980074'</td>\n",
              "      <td>0</td>\n",
              "      <td>b'US'</td>\n",
              "      <td>b'Mobile_Electronics'</td>\n",
              "      <td>b'B00D1847NE'</td>\n",
              "      <td>b'274617424'</td>\n",
              "      <td>b'Teenage Mutant Ninja Turtles Boombox CD Play...</td>\n",
              "      <td>b'Does not work'</td>\n",
              "      <td>b'2015-01-09'</td>\n",
              "      <td>b'One Star'</td>\n",
              "      <td>b'R1OVS0D6SEXPW7'</td>\n",
              "      <td>1</td>\n",
              "      <td>0</td>\n",
              "      <td>0</td>\n",
              "      <td>1</td>\n",
              "      <td>0</td>\n",
              "      <td>Does not work</td>\n",
              "      <td>B00D1847NE</td>\n",
              "      <td>274617424</td>\n",
              "      <td>Teenage Mutant Ninja Turtles Boombox CD Player...</td>\n",
              "    </tr>\n",
              "    <tr>\n",
              "      <th>1</th>\n",
              "      <td>b'779273'</td>\n",
              "      <td>0</td>\n",
              "      <td>b'US'</td>\n",
              "      <td>b'Mobile_Electronics'</td>\n",
              "      <td>b'B00KMO6DYG'</td>\n",
              "      <td>b'397452138'</td>\n",
              "      <td>b'4 Gauge Amp Kit Amplifier Install Wiring Com...</td>\n",
              "      <td>b'This is a great wiring kit i used it to set ...</td>\n",
              "      <td>b'2015-08-06'</td>\n",
              "      <td>b'Great kit'</td>\n",
              "      <td>b'R9VSD0ET8FERB'</td>\n",
              "      <td>4</td>\n",
              "      <td>0</td>\n",
              "      <td>0</td>\n",
              "      <td>1</td>\n",
              "      <td>1</td>\n",
              "      <td>This is a great wiring kit i used it to set up...</td>\n",
              "      <td>B00KMO6DYG</td>\n",
              "      <td>397452138</td>\n",
              "      <td>4 Gauge Amp Kit Amplifier Install Wiring Compl...</td>\n",
              "    </tr>\n",
              "    <tr>\n",
              "      <th>2</th>\n",
              "      <td>b'15410531'</td>\n",
              "      <td>0</td>\n",
              "      <td>b'US'</td>\n",
              "      <td>b'Mobile_Electronics'</td>\n",
              "      <td>b'B000GWLL0K'</td>\n",
              "      <td>b'948304826'</td>\n",
              "      <td>b'Travel Wall Charger fits Creative Zen Vision...</td>\n",
              "      <td>b'It works great so much faster than USB charg...</td>\n",
              "      <td>b'2007-03-15'</td>\n",
              "      <td>b'A/C Charger for Creative Zen Vision M'</td>\n",
              "      <td>b'R3ISXCZHWLJLBH'</td>\n",
              "      <td>5</td>\n",
              "      <td>0</td>\n",
              "      <td>0</td>\n",
              "      <td>1</td>\n",
              "      <td>1</td>\n",
              "      <td>It works great so much faster than USB charger...</td>\n",
              "      <td>B000GWLL0K</td>\n",
              "      <td>948304826</td>\n",
              "      <td>Travel Wall Charger fits Creative Zen Vision /...</td>\n",
              "    </tr>\n",
              "    <tr>\n",
              "      <th>3</th>\n",
              "      <td>b'27389005'</td>\n",
              "      <td>0</td>\n",
              "      <td>b'US'</td>\n",
              "      <td>b'Mobile_Electronics'</td>\n",
              "      <td>b'B008L3JE6Y'</td>\n",
              "      <td>b'466340015'</td>\n",
              "      <td>b'High Grade Robust 360\\xc2\\xb0 Adjustable Car...</td>\n",
              "      <td>b'This product was purchased to hold a monitor...</td>\n",
              "      <td>b'2013-07-30'</td>\n",
              "      <td>b'camera stand'</td>\n",
              "      <td>b'R1TWVUDOFJSQAW'</td>\n",
              "      <td>5</td>\n",
              "      <td>0</td>\n",
              "      <td>0</td>\n",
              "      <td>1</td>\n",
              "      <td>1</td>\n",
              "      <td>This product was purchased to hold a monitor o...</td>\n",
              "      <td>B008L3JE6Y</td>\n",
              "      <td>466340015</td>\n",
              "      <td>High Grade Robust 360° Adjustable Car Windshie...</td>\n",
              "    </tr>\n",
              "    <tr>\n",
              "      <th>4</th>\n",
              "      <td>b'2663569'</td>\n",
              "      <td>0</td>\n",
              "      <td>b'US'</td>\n",
              "      <td>b'Mobile_Electronics'</td>\n",
              "      <td>b'B00GHZS4SC'</td>\n",
              "      <td>b'350592810'</td>\n",
              "      <td>b'HDE Multifunctional Bluetooth FM Audio Car K...</td>\n",
              "      <td>b\"it works but it has really bad sound quality...</td>\n",
              "      <td>b'2014-12-31'</td>\n",
              "      <td>b'bad sound quality'</td>\n",
              "      <td>b'R2PEOEUR1LP0GH'</td>\n",
              "      <td>3</td>\n",
              "      <td>0</td>\n",
              "      <td>0</td>\n",
              "      <td>1</td>\n",
              "      <td>1</td>\n",
              "      <td>it works but it has really bad sound quality. ...</td>\n",
              "      <td>B00GHZS4SC</td>\n",
              "      <td>350592810</td>\n",
              "      <td>HDE Multifunctional Bluetooth FM Audio Car Kit...</td>\n",
              "    </tr>\n",
              "  </tbody>\n",
              "</table>\n",
              "</div>"
            ],
            "text/plain": [
              "  data/customer_id  ...                                      product_title\n",
              "0      b'20980074'  ...  Teenage Mutant Ninja Turtles Boombox CD Player...\n",
              "1        b'779273'  ...  4 Gauge Amp Kit Amplifier Install Wiring Compl...\n",
              "2      b'15410531'  ...  Travel Wall Charger fits Creative Zen Vision /...\n",
              "3      b'27389005'  ...  High Grade Robust 360° Adjustable Car Windshie...\n",
              "4       b'2663569'  ...  HDE Multifunctional Bluetooth FM Audio Car Kit...\n",
              "\n",
              "[5 rows x 20 columns]"
            ]
          },
          "execution_count": 44,
          "metadata": {},
          "output_type": "execute_result"
        }
      ],
      "source": [
        "df.head()"
      ]
    },
    {
      "cell_type": "code",
      "execution_count": null,
      "metadata": {
        "id": "j-jC5wTRwrCK"
      },
      "outputs": [],
      "source": [
        "# Create a feature that indicates if a review has a good user rating\n",
        "df[\"Sentiment\"] = df[\"data/star_rating\"].apply(lambda score: 1 if score >= 3 else 0)\n",
        "\n",
        "# Clean data types\n",
        "df['short_review'] = df['data/review_body'].str.decode(\"utf-8\")\n",
        "df['product_id'] = df['data/product_id'].str.decode(\"utf-8\")\n",
        "df['product_parent'] = df['data/product_parent'].str.decode(\"utf-8\")\n",
        "df['product_title'] = df['data/product_title'].str.decode(\"utf-8\")\n",
        "df['rating'] = df['data/star_rating']"
      ]
    },
    {
      "cell_type": "code",
      "execution_count": null,
      "metadata": {
        "id": "B9lfu8v-CrfL"
      },
      "outputs": [],
      "source": [
        "# Drop unneeded features\n",
        "df = df[[\"short_review\",  \"Sentiment\",  'product_id', 'product_parent', 'product_title', 'rating']]"
      ]
    },
    {
      "cell_type": "code",
      "execution_count": null,
      "metadata": {
        "id": "hlwXDQUDJUCW"
      },
      "outputs": [],
      "source": [
        "# Load tokenizer model for tokenizing review text\n",
        "tokenizer = DistilBertTokenizerFast.from_pretrained('distilbert-base-uncased')"
      ]
    },
    {
      "cell_type": "code",
      "execution_count": null,
      "metadata": {
        "id": "RMtiCM1eGuwv"
      },
      "outputs": [],
      "source": [
        "import os\n",
        "\n",
        "# This function loads and primes a pre-trained Bert model to predict the attention of amazon reviews based on their ratings \n",
        "def load_and_prime_bert_attention_model(df):\n",
        "  # If a primed model already is saved, load it instead of re-training the model\n",
        "  if os.path.isfile(\"./sentiment/tf_model.h5\"):\n",
        "    return TFDistilBertForSequenceClassification.from_pretrained(\"./sentiment\", output_attentions=True)\n",
        "  else:\n",
        "    # Create a subset of the data to prime the pre-trained bert model \n",
        "    df_subset = df.head(25000)\n",
        "    reviews = df_subset['short_review'].values.tolist()\n",
        "    labels = df_subset['Sentiment'].tolist()\n",
        "    training_sentences, validation_sentences, training_labels, validation_labels = train_test_split(reviews, labels, test_size=.2)\n",
        "\n",
        "    # Tokenize training and testing data\n",
        "    train_encodings = tokenizer(training_sentences, truncation=True, padding=True)\n",
        "    val_encodings = tokenizer(validation_sentences, truncation=True, padding=True)\n",
        "\n",
        "    # Create the training and testing datasets from the encoded data and their corresponding rating labels\n",
        "    train_dataset = tf.data.Dataset.from_tensor_slices((\n",
        "        dict(train_encodings),\n",
        "        training_labels\n",
        "    ))\n",
        "    val_dataset = tf.data.Dataset.from_tensor_slices((\n",
        "        dict(val_encodings),\n",
        "        validation_labels\n",
        "    ))\n",
        "\n",
        "    # Load the pre-trained bert model\n",
        "    model = TFDistilBertForSequenceClassification.from_pretrained('distilbert-base-uncased', num_labels=2)\n",
        "\n",
        "    # Prime the model with review data to make it work for our purposes\n",
        "    optimizer = tf.keras.optimizers.Adam(learning_rate=5e-5, epsilon=1e-08)\n",
        "    model.compile(optimizer=optimizer, loss=model.compute_loss, metrics=['accuracy'])\n",
        "    model.fit(train_dataset.shuffle(100).batch(16),\n",
        "              epochs=2,\n",
        "              batch_size=16,\n",
        "              validation_data=val_dataset.shuffle(100).batch(16))\n",
        "    \n",
        "    # Save the model for future use\n",
        "    model.save_pretrained(\"./sentiment\")\n",
        "    return model"
      ]
    },
    {
      "cell_type": "code",
      "execution_count": null,
      "metadata": {
        "colab": {
          "base_uri": "https://localhost:8080/"
        },
        "id": "FKEcJE__x4-z",
        "outputId": "a8896eac-648e-4263-e2c7-1ff7d3f9139c"
      },
      "outputs": [
        {
          "name": "stderr",
          "output_type": "stream",
          "text": [
            "Some layers from the model checkpoint at ./sentiment were not used when initializing TFDistilBertForSequenceClassification: ['dropout_19']\n",
            "- This IS expected if you are initializing TFDistilBertForSequenceClassification from the checkpoint of a model trained on another task or with another architecture (e.g. initializing a BertForSequenceClassification model from a BertForPreTraining model).\n",
            "- This IS NOT expected if you are initializing TFDistilBertForSequenceClassification from the checkpoint of a model that you expect to be exactly identical (initializing a BertForSequenceClassification model from a BertForSequenceClassification model).\n",
            "Some layers of TFDistilBertForSequenceClassification were not initialized from the model checkpoint at ./sentiment and are newly initialized: ['dropout_39']\n",
            "You should probably TRAIN this model on a down-stream task to be able to use it for predictions and inference.\n"
          ]
        }
      ],
      "source": [
        "# Get models for analysis\n",
        "attention_model = load_and_prime_bert_attention_model(df)\n",
        "keyword_model = KeyBERT()"
      ]
    },
    {
      "cell_type": "code",
      "execution_count": null,
      "metadata": {
        "id": "ilAuYcRvpaco"
      },
      "outputs": [],
      "source": [
        "## Define helper functions for classifications for created models\n",
        "\n",
        "# Gets the attention value of a review using the bert model primed above\n",
        "def get_attention_value(input, model):\n",
        "  predict_input = tokenizer.encode(input,\n",
        "                                 truncation=True,\n",
        "                                 padding=True,\n",
        "                                 return_tensors=\"tf\")\n",
        "\n",
        "  outputs = model.predict(predict_input)\n",
        "  attention_vectors = []\n",
        "  for layer in outputs.attentions:\n",
        "    X = layer.flatten()\n",
        "    attention_vectors.append(X)\n",
        "  attention_vectors = np.array(attention_vectors)\n",
        "  attention_vectors = np.mean(attention_vectors)\n",
        "  return attention_vectors\n",
        "\n",
        "# Gets review keywords using the pretrained bert model\n",
        "def get_keywords(input, model):\n",
        "  keywords = model.extract_keywords(input, keyphrase_ngram_range=(1, 3), stop_words='english',top_n=2)\n",
        "  if len(keywords) > 0:\n",
        "    return keywords[0][0]\n",
        "  else:\n",
        "    return 'None'"
      ]
    },
    {
      "cell_type": "code",
      "execution_count": null,
      "metadata": {
        "id": "a6FTj4QTflV8"
      },
      "outputs": [],
      "source": [
        "from time import time\n",
        "\n",
        "# Define what data we want to run analysis on\n",
        "project_data = df.head(10000000)"
      ]
    },
    {
      "cell_type": "code",
      "execution_count": null,
      "metadata": {
        "colab": {
          "base_uri": "https://localhost:8080/"
        },
        "id": "_IXVv-fUvGxD",
        "outputId": "9612881f-bbb9-4d93-ca2d-e7765e2934c3"
      },
      "outputs": [
        {
          "name": "stdout",
          "output_type": "stream",
          "text": [
            "Hours: 0.0\n",
            "Minutes: 59.0\n",
            "Seconds: 29.22889018058777\n"
          ]
        },
        {
          "name": "stderr",
          "output_type": "stream",
          "text": [
            "/usr/local/lib/python3.7/dist-packages/ipykernel_launcher.py:3: SettingWithCopyWarning: \n",
            "A value is trying to be set on a copy of a slice from a DataFrame.\n",
            "Try using .loc[row_indexer,col_indexer] = value instead\n",
            "\n",
            "See the caveats in the documentation: https://pandas.pydata.org/pandas-docs/stable/user_guide/indexing.html#returning-a-view-versus-a-copy\n",
            "  This is separate from the ipykernel package so we can avoid doing imports until\n"
          ]
        }
      ],
      "source": [
        "# Get the keyword for each review\n",
        "start = time()\n",
        "project_data['keyword'] = project_data[\"short_review\"].apply(lambda x: get_keywords(x, keyword_model))\n",
        "\n",
        "time_elapsed = time() - start\n",
        "m, s = divmod(time_elapsed, 60)\n",
        "h, m = divmod(m, 60)\n",
        "print(\"Hours: \" + str(h))\n",
        "print(\"Minutes: \" + str(m))\n",
        "print(\"Seconds: \" + str(s))"
      ]
    },
    {
      "cell_type": "code",
      "execution_count": null,
      "metadata": {
        "colab": {
          "base_uri": "https://localhost:8080/"
        },
        "id": "aKwsxNj4qLCr",
        "outputId": "ed54d271-44eb-4b0c-d851-4efc7df65627"
      },
      "outputs": [
        {
          "name": "stdout",
          "output_type": "stream",
          "text": [
            "Hours: 1.0\n",
            "Minutes: 23.0\n",
            "Seconds: 52.25778079032898\n"
          ]
        },
        {
          "name": "stderr",
          "output_type": "stream",
          "text": [
            "/usr/local/lib/python3.7/dist-packages/ipykernel_launcher.py:3: SettingWithCopyWarning: \n",
            "A value is trying to be set on a copy of a slice from a DataFrame.\n",
            "Try using .loc[row_indexer,col_indexer] = value instead\n",
            "\n",
            "See the caveats in the documentation: https://pandas.pydata.org/pandas-docs/stable/user_guide/indexing.html#returning-a-view-versus-a-copy\n",
            "  This is separate from the ipykernel package so we can avoid doing imports until\n"
          ]
        }
      ],
      "source": [
        "# Get the attention for each review\n",
        "start = time()\n",
        "project_data['attention'] = project_data[\"keyword\"].apply(lambda x: get_attention_value(x, attention_model))\n",
        "\n",
        "time_elapsed = time() - start\n",
        "m, s = divmod(time_elapsed, 60)\n",
        "h, m = divmod(m, 60)\n",
        "print(\"Hours: \" + str(h))\n",
        "print(\"Minutes: \" + str(m))\n",
        "print(\"Seconds: \" + str(s))"
      ]
    },
    {
      "cell_type": "code",
      "execution_count": null,
      "metadata": {
        "colab": {
          "base_uri": "https://localhost:8080/",
          "height": 521
        },
        "id": "63a3LBmC6fiz",
        "outputId": "130ecd33-0007-4396-84c2-c4c4f46e9d7a"
      },
      "outputs": [
        {
          "data": {
            "text/html": [
              "<div>\n",
              "<style scoped>\n",
              "    .dataframe tbody tr th:only-of-type {\n",
              "        vertical-align: middle;\n",
              "    }\n",
              "\n",
              "    .dataframe tbody tr th {\n",
              "        vertical-align: top;\n",
              "    }\n",
              "\n",
              "    .dataframe thead th {\n",
              "        text-align: right;\n",
              "    }\n",
              "</style>\n",
              "<table border=\"1\" class=\"dataframe\">\n",
              "  <thead>\n",
              "    <tr style=\"text-align: right;\">\n",
              "      <th></th>\n",
              "      <th>short_review</th>\n",
              "      <th>Sentiment</th>\n",
              "      <th>product_id</th>\n",
              "      <th>product_parent</th>\n",
              "      <th>product_title</th>\n",
              "      <th>rating</th>\n",
              "      <th>keyword</th>\n",
              "      <th>attention</th>\n",
              "    </tr>\n",
              "  </thead>\n",
              "  <tbody>\n",
              "    <tr>\n",
              "      <th>0</th>\n",
              "      <td>Does not work</td>\n",
              "      <td>0</td>\n",
              "      <td>B00D1847NE</td>\n",
              "      <td>274617424</td>\n",
              "      <td>Teenage Mutant Ninja Turtles Boombox CD Player...</td>\n",
              "      <td>1</td>\n",
              "      <td>does work</td>\n",
              "      <td>0.250000</td>\n",
              "    </tr>\n",
              "    <tr>\n",
              "      <th>1</th>\n",
              "      <td>This is a great wiring kit i used it to set up...</td>\n",
              "      <td>1</td>\n",
              "      <td>B00KMO6DYG</td>\n",
              "      <td>397452138</td>\n",
              "      <td>4 Gauge Amp Kit Amplifier Install Wiring Compl...</td>\n",
              "      <td>4</td>\n",
              "      <td>power cord length</td>\n",
              "      <td>0.200000</td>\n",
              "    </tr>\n",
              "    <tr>\n",
              "      <th>2</th>\n",
              "      <td>It works great so much faster than USB charger...</td>\n",
              "      <td>1</td>\n",
              "      <td>B000GWLL0K</td>\n",
              "      <td>948304826</td>\n",
              "      <td>Travel Wall Charger fits Creative Zen Vision /...</td>\n",
              "      <td>5</td>\n",
              "      <td>faster usb charger</td>\n",
              "      <td>0.166667</td>\n",
              "    </tr>\n",
              "    <tr>\n",
              "      <th>3</th>\n",
              "      <td>This product was purchased to hold a monitor o...</td>\n",
              "      <td>1</td>\n",
              "      <td>B008L3JE6Y</td>\n",
              "      <td>466340015</td>\n",
              "      <td>High Grade Robust 360° Adjustable Car Windshie...</td>\n",
              "      <td>5</td>\n",
              "      <td>security camera</td>\n",
              "      <td>0.250000</td>\n",
              "    </tr>\n",
              "    <tr>\n",
              "      <th>4</th>\n",
              "      <td>it works but it has really bad sound quality. ...</td>\n",
              "      <td>1</td>\n",
              "      <td>B00GHZS4SC</td>\n",
              "      <td>350592810</td>\n",
              "      <td>HDE Multifunctional Bluetooth FM Audio Car Kit...</td>\n",
              "      <td>3</td>\n",
              "      <td>bass doesn work</td>\n",
              "      <td>0.200000</td>\n",
              "    </tr>\n",
              "  </tbody>\n",
              "</table>\n",
              "</div>"
            ],
            "text/plain": [
              "                                        short_review  ...  attention\n",
              "0                                      Does not work  ...   0.250000\n",
              "1  This is a great wiring kit i used it to set up...  ...   0.200000\n",
              "2  It works great so much faster than USB charger...  ...   0.166667\n",
              "3  This product was purchased to hold a monitor o...  ...   0.250000\n",
              "4  it works but it has really bad sound quality. ...  ...   0.200000\n",
              "\n",
              "[5 rows x 8 columns]"
            ]
          },
          "execution_count": 75,
          "metadata": {},
          "output_type": "execute_result"
        }
      ],
      "source": [
        "# Display results\n",
        "project_data.head()"
      ]
    },
    {
      "cell_type": "code",
      "execution_count": null,
      "metadata": {
        "colab": {
          "base_uri": "https://localhost:8080/",
          "height": 226
        },
        "id": "amuad6F7x6sf",
        "outputId": "a39cd06b-676f-46cf-c940-94df503af176"
      },
      "outputs": [
        {
          "data": {
            "text/html": [
              "<div>\n",
              "<style scoped>\n",
              "    .dataframe tbody tr th:only-of-type {\n",
              "        vertical-align: middle;\n",
              "    }\n",
              "\n",
              "    .dataframe tbody tr th {\n",
              "        vertical-align: top;\n",
              "    }\n",
              "\n",
              "    .dataframe thead th {\n",
              "        text-align: right;\n",
              "    }\n",
              "</style>\n",
              "<table border=\"1\" class=\"dataframe\">\n",
              "  <thead>\n",
              "    <tr style=\"text-align: right;\">\n",
              "      <th></th>\n",
              "      <th>attention</th>\n",
              "      <th>0</th>\n",
              "      <th>1</th>\n",
              "      <th>2</th>\n",
              "      <th>3</th>\n",
              "      <th>4</th>\n",
              "      <th>5</th>\n",
              "      <th>6</th>\n",
              "      <th>7</th>\n",
              "      <th>8</th>\n",
              "      <th>9</th>\n",
              "      <th>10</th>\n",
              "      <th>11</th>\n",
              "      <th>12</th>\n",
              "      <th>13</th>\n",
              "      <th>14</th>\n",
              "      <th>15</th>\n",
              "      <th>16</th>\n",
              "      <th>17</th>\n",
              "      <th>18</th>\n",
              "      <th>19</th>\n",
              "      <th>20</th>\n",
              "      <th>21</th>\n",
              "      <th>22</th>\n",
              "      <th>23</th>\n",
              "      <th>24</th>\n",
              "      <th>25</th>\n",
              "      <th>26</th>\n",
              "      <th>27</th>\n",
              "    </tr>\n",
              "  </thead>\n",
              "  <tbody>\n",
              "    <tr>\n",
              "      <th>0</th>\n",
              "      <td>0.250000</td>\n",
              "      <td>101</td>\n",
              "      <td>2515</td>\n",
              "      <td>2147</td>\n",
              "      <td>102</td>\n",
              "      <td>0</td>\n",
              "      <td>0</td>\n",
              "      <td>0</td>\n",
              "      <td>0</td>\n",
              "      <td>0</td>\n",
              "      <td>0</td>\n",
              "      <td>0</td>\n",
              "      <td>0</td>\n",
              "      <td>0</td>\n",
              "      <td>0</td>\n",
              "      <td>0</td>\n",
              "      <td>0</td>\n",
              "      <td>0</td>\n",
              "      <td>0</td>\n",
              "      <td>0</td>\n",
              "      <td>0</td>\n",
              "      <td>0</td>\n",
              "      <td>0</td>\n",
              "      <td>0</td>\n",
              "      <td>0</td>\n",
              "      <td>0</td>\n",
              "      <td>0</td>\n",
              "      <td>0</td>\n",
              "      <td>0</td>\n",
              "    </tr>\n",
              "    <tr>\n",
              "      <th>1</th>\n",
              "      <td>0.200000</td>\n",
              "      <td>101</td>\n",
              "      <td>2373</td>\n",
              "      <td>11601</td>\n",
              "      <td>3091</td>\n",
              "      <td>102</td>\n",
              "      <td>0</td>\n",
              "      <td>0</td>\n",
              "      <td>0</td>\n",
              "      <td>0</td>\n",
              "      <td>0</td>\n",
              "      <td>0</td>\n",
              "      <td>0</td>\n",
              "      <td>0</td>\n",
              "      <td>0</td>\n",
              "      <td>0</td>\n",
              "      <td>0</td>\n",
              "      <td>0</td>\n",
              "      <td>0</td>\n",
              "      <td>0</td>\n",
              "      <td>0</td>\n",
              "      <td>0</td>\n",
              "      <td>0</td>\n",
              "      <td>0</td>\n",
              "      <td>0</td>\n",
              "      <td>0</td>\n",
              "      <td>0</td>\n",
              "      <td>0</td>\n",
              "      <td>0</td>\n",
              "    </tr>\n",
              "    <tr>\n",
              "      <th>2</th>\n",
              "      <td>0.166667</td>\n",
              "      <td>101</td>\n",
              "      <td>5514</td>\n",
              "      <td>18833</td>\n",
              "      <td>3715</td>\n",
              "      <td>2099</td>\n",
              "      <td>102</td>\n",
              "      <td>0</td>\n",
              "      <td>0</td>\n",
              "      <td>0</td>\n",
              "      <td>0</td>\n",
              "      <td>0</td>\n",
              "      <td>0</td>\n",
              "      <td>0</td>\n",
              "      <td>0</td>\n",
              "      <td>0</td>\n",
              "      <td>0</td>\n",
              "      <td>0</td>\n",
              "      <td>0</td>\n",
              "      <td>0</td>\n",
              "      <td>0</td>\n",
              "      <td>0</td>\n",
              "      <td>0</td>\n",
              "      <td>0</td>\n",
              "      <td>0</td>\n",
              "      <td>0</td>\n",
              "      <td>0</td>\n",
              "      <td>0</td>\n",
              "      <td>0</td>\n",
              "    </tr>\n",
              "    <tr>\n",
              "      <th>3</th>\n",
              "      <td>0.250000</td>\n",
              "      <td>101</td>\n",
              "      <td>3036</td>\n",
              "      <td>4950</td>\n",
              "      <td>102</td>\n",
              "      <td>0</td>\n",
              "      <td>0</td>\n",
              "      <td>0</td>\n",
              "      <td>0</td>\n",
              "      <td>0</td>\n",
              "      <td>0</td>\n",
              "      <td>0</td>\n",
              "      <td>0</td>\n",
              "      <td>0</td>\n",
              "      <td>0</td>\n",
              "      <td>0</td>\n",
              "      <td>0</td>\n",
              "      <td>0</td>\n",
              "      <td>0</td>\n",
              "      <td>0</td>\n",
              "      <td>0</td>\n",
              "      <td>0</td>\n",
              "      <td>0</td>\n",
              "      <td>0</td>\n",
              "      <td>0</td>\n",
              "      <td>0</td>\n",
              "      <td>0</td>\n",
              "      <td>0</td>\n",
              "      <td>0</td>\n",
              "    </tr>\n",
              "    <tr>\n",
              "      <th>4</th>\n",
              "      <td>0.200000</td>\n",
              "      <td>101</td>\n",
              "      <td>3321</td>\n",
              "      <td>2987</td>\n",
              "      <td>2147</td>\n",
              "      <td>102</td>\n",
              "      <td>0</td>\n",
              "      <td>0</td>\n",
              "      <td>0</td>\n",
              "      <td>0</td>\n",
              "      <td>0</td>\n",
              "      <td>0</td>\n",
              "      <td>0</td>\n",
              "      <td>0</td>\n",
              "      <td>0</td>\n",
              "      <td>0</td>\n",
              "      <td>0</td>\n",
              "      <td>0</td>\n",
              "      <td>0</td>\n",
              "      <td>0</td>\n",
              "      <td>0</td>\n",
              "      <td>0</td>\n",
              "      <td>0</td>\n",
              "      <td>0</td>\n",
              "      <td>0</td>\n",
              "      <td>0</td>\n",
              "      <td>0</td>\n",
              "      <td>0</td>\n",
              "      <td>0</td>\n",
              "    </tr>\n",
              "  </tbody>\n",
              "</table>\n",
              "</div>"
            ],
            "text/plain": [
              "   attention    0     1      2     3     4    5  ...  21  22  23  24  25  26  27\n",
              "0   0.250000  101  2515   2147   102     0    0  ...   0   0   0   0   0   0   0\n",
              "1   0.200000  101  2373  11601  3091   102    0  ...   0   0   0   0   0   0   0\n",
              "2   0.166667  101  5514  18833  3715  2099  102  ...   0   0   0   0   0   0   0\n",
              "3   0.250000  101  3036   4950   102     0    0  ...   0   0   0   0   0   0   0\n",
              "4   0.200000  101  3321   2987  2147   102    0  ...   0   0   0   0   0   0   0\n",
              "\n",
              "[5 rows x 29 columns]"
            ]
          },
          "execution_count": 76,
          "metadata": {},
          "output_type": "execute_result"
        }
      ],
      "source": [
        "# Tokenize key phrases so they can be clustered \n",
        "keywords = project_data['keyword'].tolist()\n",
        "\n",
        "# Create frame to cluster\n",
        "attention = project_data[['attention']]\n",
        "embeded_keywords = pd.DataFrame(tokenizer(keywords, truncation=True, padding=True)['input_ids'])\n",
        "clustering_data = pd.concat([attention, embeded_keywords], axis=1)\n",
        "\n",
        "# Save what we have so far just in case\n",
        "backup = pd.concat([project_data, clustering_data], axis=1)\n",
        "backup.to_csv(\"./drive/MyDrive/backup_results.csv\",index=False)\n",
        "\n",
        "# Display data\n",
        "clustering_data.head()"
      ]
    },
    {
      "cell_type": "code",
      "execution_count": null,
      "metadata": {
        "id": "6wpNmmflpRc5"
      },
      "outputs": [],
      "source": [
        "# Clustering and finding the optimal number of clusters\n",
        "cluster_step = 25\n",
        "X = clustering_data\n",
        "maximum_number_of_clusters = int(X.shape[0]/4)\n",
        "davies_boulding_scores = []\n",
        "\n",
        "for num_clusters in range(cluster_step, maximum_number_of_clusters, cluster_step):\n",
        "  k_means = KMeans(n_clusters=num_clusters)\n",
        "  labels = k_means.fit_predict(X)\n",
        "  db_index = davies_bouldin_score(X, labels)\n",
        "  davies_boulding_scores.append(db_index)\n",
        "\n",
        "plt.plot(list(i * cluster_step for i in range(1, len(davies_boulding_scores)+1)), davies_boulding_scores)\n",
        "plt.show()"
      ]
    },
    {
      "cell_type": "code",
      "execution_count": 4,
      "metadata": {
        "colab": {
          "base_uri": "https://localhost:8080/",
          "height": 369
        },
        "id": "o-PmR0U7RQrI",
        "outputId": "9bef9bd6-1ff2-44bc-ca29-39f7972ec3c4"
      },
      "outputs": [
        {
          "name": "stdout",
          "output_type": "stream",
          "text": [
            "50\n",
            "100\n",
            "200\n",
            "450\n",
            "750\n",
            "1000\n"
          ]
        },
        {
          "data": {
            "image/png": "[encoded data removed]",
            "text/plain": [
              "<Figure size 432x288 with 1 Axes>"
            ]
          },
          "metadata": {
            "needs_background": "light"
          },
          "output_type": "display_data"
        }
      ],
      "source": [
        "# Clustering and finding the optimal number of clusters (using backedup data)\n",
        "project_data = pd.read_csv('./backup_results.csv')\n",
        "project_data.head()\n",
        "\n",
        "X = project_data[[\"attention\",  \"0\",  '1', '2', '3', '4', '5', '6', '7', '8']]\n",
        "\n",
        "cluster_sizes = [50, 100, 200, 450, 750, 1000]\n",
        "davies_boulding_scores = []\n",
        "\n",
        "for num_clusters in cluster_sizes:\n",
        "  print(num_clusters)\n",
        "  k_means = KMeans(n_clusters=num_clusters)\n",
        "  labels = k_means.fit_predict(X)\n",
        "  db_index = davies_bouldin_score(X, labels)\n",
        "  davies_boulding_scores.append(db_index)\n",
        "\n",
        "plt.plot(cluster_sizes, davies_boulding_scores)\n",
        "plt.show()"
      ]
    },
    {
      "cell_type": "code",
      "execution_count": 8,
      "metadata": {
        "colab": {
          "base_uri": "https://localhost:8080/"
        },
        "id": "TQsl-2NuF91L",
        "outputId": "922fb7c7-5df2-409c-c05a-3563ad1e77c0"
      },
      "outputs": [
        {
          "name": "stdout",
          "output_type": "stream",
          "text": [
            "1000\n"
          ]
        }
      ],
      "source": [
        "# Determine the optimal number of clusters\n",
        "optimal_number_of_clusters = cluster_sizes[davies_boulding_scores.index(min(davies_boulding_scores[1:]))]\n",
        "print(optimal_number_of_clusters)"
      ]
    },
    {
      "cell_type": "code",
      "execution_count": null,
      "metadata": {
        "id": "YZ1vQqpFGGYU"
      },
      "outputs": [],
      "source": [
        "# Cluster Again\n",
        "k_means = KMeans(n_clusters=optimal_number_of_clusters)\n",
        "labels = k_means.fit_predict(X)"
      ]
    },
    {
      "cell_type": "code",
      "execution_count": null,
      "metadata": {
        "id": "BBly0DbzQo7R"
      },
      "outputs": [],
      "source": [
        "# Save the cluster results\n",
        "pickle.dump(k_means, open(\"./k_means.pickle\", \"wb\"))"
      ]
    },
    {
      "cell_type": "code",
      "execution_count": null,
      "metadata": {
        "colab": {
          "base_uri": "https://localhost:8080/",
          "height": 521
        },
        "id": "3_Gu5GnZ0f9d",
        "outputId": "3830102e-6c46-4d20-f3ca-15b1b67aae6a"
      },
      "outputs": [
        {
          "data": {
            "text/html": [
              "<div>\n",
              "<style scoped>\n",
              "    .dataframe tbody tr th:only-of-type {\n",
              "        vertical-align: middle;\n",
              "    }\n",
              "\n",
              "    .dataframe tbody tr th {\n",
              "        vertical-align: top;\n",
              "    }\n",
              "\n",
              "    .dataframe thead th {\n",
              "        text-align: right;\n",
              "    }\n",
              "</style>\n",
              "<table border=\"1\" class=\"dataframe\">\n",
              "  <thead>\n",
              "    <tr style=\"text-align: right;\">\n",
              "      <th></th>\n",
              "      <th>short_review</th>\n",
              "      <th>Sentiment</th>\n",
              "      <th>product_id</th>\n",
              "      <th>product_parent</th>\n",
              "      <th>product_title</th>\n",
              "      <th>rating</th>\n",
              "      <th>keyword</th>\n",
              "      <th>attention</th>\n",
              "      <th>attention.1</th>\n",
              "      <th>0</th>\n",
              "      <th>1</th>\n",
              "      <th>2</th>\n",
              "      <th>3</th>\n",
              "      <th>4</th>\n",
              "      <th>5</th>\n",
              "      <th>6</th>\n",
              "      <th>7</th>\n",
              "      <th>8</th>\n",
              "      <th>9</th>\n",
              "      <th>10</th>\n",
              "      <th>11</th>\n",
              "      <th>12</th>\n",
              "      <th>13</th>\n",
              "      <th>14</th>\n",
              "      <th>15</th>\n",
              "      <th>16</th>\n",
              "      <th>17</th>\n",
              "      <th>18</th>\n",
              "      <th>19</th>\n",
              "      <th>20</th>\n",
              "      <th>21</th>\n",
              "      <th>22</th>\n",
              "      <th>23</th>\n",
              "      <th>24</th>\n",
              "      <th>25</th>\n",
              "      <th>26</th>\n",
              "      <th>27</th>\n",
              "      <th>label</th>\n",
              "    </tr>\n",
              "  </thead>\n",
              "  <tbody>\n",
              "    <tr>\n",
              "      <th>0</th>\n",
              "      <td>Does not work</td>\n",
              "      <td>0</td>\n",
              "      <td>B00D1847NE</td>\n",
              "      <td>274617424</td>\n",
              "      <td>Teenage Mutant Ninja Turtles Boombox CD Player...</td>\n",
              "      <td>1</td>\n",
              "      <td>does work</td>\n",
              "      <td>0.250000</td>\n",
              "      <td>0.250000</td>\n",
              "      <td>101</td>\n",
              "      <td>2515</td>\n",
              "      <td>2147</td>\n",
              "      <td>102</td>\n",
              "      <td>0</td>\n",
              "      <td>0</td>\n",
              "      <td>0</td>\n",
              "      <td>0</td>\n",
              "      <td>0</td>\n",
              "      <td>0</td>\n",
              "      <td>0</td>\n",
              "      <td>0</td>\n",
              "      <td>0</td>\n",
              "      <td>0</td>\n",
              "      <td>0</td>\n",
              "      <td>0</td>\n",
              "      <td>0</td>\n",
              "      <td>0</td>\n",
              "      <td>0</td>\n",
              "      <td>0</td>\n",
              "      <td>0</td>\n",
              "      <td>0</td>\n",
              "      <td>0</td>\n",
              "      <td>0</td>\n",
              "      <td>0</td>\n",
              "      <td>0</td>\n",
              "      <td>0</td>\n",
              "      <td>0</td>\n",
              "      <td>1</td>\n",
              "    </tr>\n",
              "    <tr>\n",
              "      <th>1</th>\n",
              "      <td>This is a great wiring kit i used it to set up...</td>\n",
              "      <td>1</td>\n",
              "      <td>B00KMO6DYG</td>\n",
              "      <td>397452138</td>\n",
              "      <td>4 Gauge Amp Kit Amplifier Install Wiring Compl...</td>\n",
              "      <td>4</td>\n",
              "      <td>power cord length</td>\n",
              "      <td>0.200000</td>\n",
              "      <td>0.200000</td>\n",
              "      <td>101</td>\n",
              "      <td>2373</td>\n",
              "      <td>11601</td>\n",
              "      <td>3091</td>\n",
              "      <td>102</td>\n",
              "      <td>0</td>\n",
              "      <td>0</td>\n",
              "      <td>0</td>\n",
              "      <td>0</td>\n",
              "      <td>0</td>\n",
              "      <td>0</td>\n",
              "      <td>0</td>\n",
              "      <td>0</td>\n",
              "      <td>0</td>\n",
              "      <td>0</td>\n",
              "      <td>0</td>\n",
              "      <td>0</td>\n",
              "      <td>0</td>\n",
              "      <td>0</td>\n",
              "      <td>0</td>\n",
              "      <td>0</td>\n",
              "      <td>0</td>\n",
              "      <td>0</td>\n",
              "      <td>0</td>\n",
              "      <td>0</td>\n",
              "      <td>0</td>\n",
              "      <td>0</td>\n",
              "      <td>0</td>\n",
              "      <td>1</td>\n",
              "    </tr>\n",
              "    <tr>\n",
              "      <th>2</th>\n",
              "      <td>It works great so much faster than USB charger...</td>\n",
              "      <td>1</td>\n",
              "      <td>B000GWLL0K</td>\n",
              "      <td>948304826</td>\n",
              "      <td>Travel Wall Charger fits Creative Zen Vision /...</td>\n",
              "      <td>5</td>\n",
              "      <td>faster usb charger</td>\n",
              "      <td>0.166667</td>\n",
              "      <td>0.166667</td>\n",
              "      <td>101</td>\n",
              "      <td>5514</td>\n",
              "      <td>18833</td>\n",
              "      <td>3715</td>\n",
              "      <td>2099</td>\n",
              "      <td>102</td>\n",
              "      <td>0</td>\n",
              "      <td>0</td>\n",
              "      <td>0</td>\n",
              "      <td>0</td>\n",
              "      <td>0</td>\n",
              "      <td>0</td>\n",
              "      <td>0</td>\n",
              "      <td>0</td>\n",
              "      <td>0</td>\n",
              "      <td>0</td>\n",
              "      <td>0</td>\n",
              "      <td>0</td>\n",
              "      <td>0</td>\n",
              "      <td>0</td>\n",
              "      <td>0</td>\n",
              "      <td>0</td>\n",
              "      <td>0</td>\n",
              "      <td>0</td>\n",
              "      <td>0</td>\n",
              "      <td>0</td>\n",
              "      <td>0</td>\n",
              "      <td>0</td>\n",
              "      <td>3</td>\n",
              "    </tr>\n",
              "    <tr>\n",
              "      <th>3</th>\n",
              "      <td>This product was purchased to hold a monitor o...</td>\n",
              "      <td>1</td>\n",
              "      <td>B008L3JE6Y</td>\n",
              "      <td>466340015</td>\n",
              "      <td>High Grade Robust 360° Adjustable Car Windshie...</td>\n",
              "      <td>5</td>\n",
              "      <td>security camera</td>\n",
              "      <td>0.250000</td>\n",
              "      <td>0.250000</td>\n",
              "      <td>101</td>\n",
              "      <td>3036</td>\n",
              "      <td>4950</td>\n",
              "      <td>102</td>\n",
              "      <td>0</td>\n",
              "      <td>0</td>\n",
              "      <td>0</td>\n",
              "      <td>0</td>\n",
              "      <td>0</td>\n",
              "      <td>0</td>\n",
              "      <td>0</td>\n",
              "      <td>0</td>\n",
              "      <td>0</td>\n",
              "      <td>0</td>\n",
              "      <td>0</td>\n",
              "      <td>0</td>\n",
              "      <td>0</td>\n",
              "      <td>0</td>\n",
              "      <td>0</td>\n",
              "      <td>0</td>\n",
              "      <td>0</td>\n",
              "      <td>0</td>\n",
              "      <td>0</td>\n",
              "      <td>0</td>\n",
              "      <td>0</td>\n",
              "      <td>0</td>\n",
              "      <td>0</td>\n",
              "      <td>0</td>\n",
              "      <td>1</td>\n",
              "    </tr>\n",
              "    <tr>\n",
              "      <th>4</th>\n",
              "      <td>it works but it has really bad sound quality. ...</td>\n",
              "      <td>1</td>\n",
              "      <td>B00GHZS4SC</td>\n",
              "      <td>350592810</td>\n",
              "      <td>HDE Multifunctional Bluetooth FM Audio Car Kit...</td>\n",
              "      <td>3</td>\n",
              "      <td>bass doesn work</td>\n",
              "      <td>0.200000</td>\n",
              "      <td>0.200000</td>\n",
              "      <td>101</td>\n",
              "      <td>3321</td>\n",
              "      <td>2987</td>\n",
              "      <td>2147</td>\n",
              "      <td>102</td>\n",
              "      <td>0</td>\n",
              "      <td>0</td>\n",
              "      <td>0</td>\n",
              "      <td>0</td>\n",
              "      <td>0</td>\n",
              "      <td>0</td>\n",
              "      <td>0</td>\n",
              "      <td>0</td>\n",
              "      <td>0</td>\n",
              "      <td>0</td>\n",
              "      <td>0</td>\n",
              "      <td>0</td>\n",
              "      <td>0</td>\n",
              "      <td>0</td>\n",
              "      <td>0</td>\n",
              "      <td>0</td>\n",
              "      <td>0</td>\n",
              "      <td>0</td>\n",
              "      <td>0</td>\n",
              "      <td>0</td>\n",
              "      <td>0</td>\n",
              "      <td>0</td>\n",
              "      <td>0</td>\n",
              "      <td>1</td>\n",
              "    </tr>\n",
              "  </tbody>\n",
              "</table>\n",
              "</div>"
            ],
            "text/plain": [
              "                                        short_review  Sentiment  ... 27  label\n",
              "0                                      Does not work          0  ...  0      1\n",
              "1  This is a great wiring kit i used it to set up...          1  ...  0      1\n",
              "2  It works great so much faster than USB charger...          1  ...  0      3\n",
              "3  This product was purchased to hold a monitor o...          1  ...  0      1\n",
              "4  it works but it has really bad sound quality. ...          1  ...  0      1\n",
              "\n",
              "[5 rows x 38 columns]"
            ]
          },
          "execution_count": 17,
          "metadata": {},
          "output_type": "execute_result"
        }
      ],
      "source": [
        "# Put each product into a cluster\n",
        "project_data['label'] = labels\n",
        "project_data.head()"
      ]
    },
    {
      "cell_type": "code",
      "execution_count": null,
      "metadata": {
        "id": "INNz00roVHoh"
      },
      "outputs": [],
      "source": [
        "# Export cluster results\n",
        "X_export = project_data.reset_index()\n",
        "X_export = project_data[[\"attention\", \"Sentiment\", \"product_id\", \"product_title\", \"rating\", \"keyword\", \"label\"]]\n",
        "\n",
        "X_export.to_csv(\"cluster.csv\",index=False)\n",
        "X_export.to_json(\"cluster.json\")"
      ]
    },
    {
      "cell_type": "code",
      "execution_count": null,
      "metadata": {
        "colab": {
          "base_uri": "https://localhost:8080/"
        },
        "id": "SjyP4KzA4tEV",
        "outputId": "705b7d01-bb8c-492f-c5a1-3f16695d44c9"
      },
      "outputs": [
        {
          "data": {
            "text/plain": [
              "1    50642\n",
              "3    16534\n",
              "4    16371\n",
              "0    14948\n",
              "2     6480\n",
              "Name: label, dtype: int64"
            ]
          },
          "execution_count": 25,
          "metadata": {},
          "output_type": "execute_result"
        }
      ],
      "source": [
        "# Number of products per cluster\n",
        "X_export['label'].value_counts()"
      ]
    },
    {
      "cell_type": "code",
      "execution_count": null,
      "metadata": {
        "colab": {
          "base_uri": "https://localhost:8080/",
          "height": 432
        },
        "id": "8wsxUbiaZ5PU",
        "outputId": "0a9d7007-a51e-4f47-ebcd-78b0372ddb87"
      },
      "outputs": [
        {
          "data": {
            "text/html": [
              "<div>\n",
              "<style scoped>\n",
              "    .dataframe tbody tr th:only-of-type {\n",
              "        vertical-align: middle;\n",
              "    }\n",
              "\n",
              "    .dataframe tbody tr th {\n",
              "        vertical-align: top;\n",
              "    }\n",
              "\n",
              "    .dataframe thead th {\n",
              "        text-align: right;\n",
              "    }\n",
              "</style>\n",
              "<table border=\"1\" class=\"dataframe\">\n",
              "  <thead>\n",
              "    <tr style=\"text-align: right;\">\n",
              "      <th></th>\n",
              "      <th>attention</th>\n",
              "      <th>Sentiment</th>\n",
              "      <th>product_id</th>\n",
              "      <th>product_title</th>\n",
              "      <th>rating</th>\n",
              "      <th>keyword</th>\n",
              "      <th>label</th>\n",
              "    </tr>\n",
              "  </thead>\n",
              "  <tbody>\n",
              "    <tr>\n",
              "      <th>7</th>\n",
              "      <td>0.200000</td>\n",
              "      <td>0</td>\n",
              "      <td>B0050FXF52</td>\n",
              "      <td>Mini GPS Receiver + Location Finder with Displ...</td>\n",
              "      <td>2</td>\n",
              "      <td>inaccurate indicating direction</td>\n",
              "      <td>0</td>\n",
              "    </tr>\n",
              "    <tr>\n",
              "      <th>17</th>\n",
              "      <td>0.200000</td>\n",
              "      <td>1</td>\n",
              "      <td>B00J46XO9U</td>\n",
              "      <td>iXCC Lightning Cable 3ft, iPhone charger, for ...</td>\n",
              "      <td>5</td>\n",
              "      <td>cables regularly problem</td>\n",
              "      <td>0</td>\n",
              "    </tr>\n",
              "    <tr>\n",
              "      <th>27</th>\n",
              "      <td>0.200000</td>\n",
              "      <td>1</td>\n",
              "      <td>B008Y6LG8W</td>\n",
              "      <td>MiniGuard Samsung Galaxy Note 10.1 Inch Tablet...</td>\n",
              "      <td>5</td>\n",
              "      <td>blur figure print</td>\n",
              "      <td>0</td>\n",
              "    </tr>\n",
              "    <tr>\n",
              "      <th>34</th>\n",
              "      <td>0.111111</td>\n",
              "      <td>1</td>\n",
              "      <td>B004SCD8BE</td>\n",
              "      <td>Instapark® SML-05 PWM 5 Amp Solar Power Charge...</td>\n",
              "      <td>4</td>\n",
              "      <td>jumpers configure charging</td>\n",
              "      <td>0</td>\n",
              "    </tr>\n",
              "    <tr>\n",
              "      <th>40</th>\n",
              "      <td>0.200000</td>\n",
              "      <td>1</td>\n",
              "      <td>B00AJ66P9K</td>\n",
              "      <td>PureGear Car Charger For Apple iPhone 5 and iP...</td>\n",
              "      <td>4</td>\n",
              "      <td>ipad fourth gen</td>\n",
              "      <td>0</td>\n",
              "    </tr>\n",
              "  </tbody>\n",
              "</table>\n",
              "</div>"
            ],
            "text/plain": [
              "    attention  Sentiment  ...                          keyword label\n",
              "7    0.200000          0  ...  inaccurate indicating direction     0\n",
              "17   0.200000          1  ...         cables regularly problem     0\n",
              "27   0.200000          1  ...                blur figure print     0\n",
              "34   0.111111          1  ...       jumpers configure charging     0\n",
              "40   0.200000          1  ...                  ipad fourth gen     0\n",
              "\n",
              "[5 rows x 7 columns]"
            ]
          },
          "execution_count": 26,
          "metadata": {},
          "output_type": "execute_result"
        }
      ],
      "source": [
        "# Products in a cluster\n",
        "filter = X_export[X_export['label'] == 0]\n",
        "filter.head()"
      ]
    },
    {
      "cell_type": "code",
      "execution_count": null,
      "metadata": {
        "id": "1TMiB7TjQeCa"
      },
      "outputs": [],
      "source": [
        "X_export.to_csv(\"./drive/MyDrive/cluster.csv\",index=False)\n",
        "X_export.to_json(\"./drive/MyDrive/cluster.json\")"
      ]
    },
    {
      "cell_type": "code",
      "execution_count": null,
      "metadata": {
        "id": "NM9jd_taQhOw"
      },
      "outputs": [],
      "source": [
        "pickle.dump(k_means, open(\"./drive/MyDrive/k_means.pickle\", \"wb\"))"
      ]
    },
    {
      "cell_type": "code",
      "execution_count": null,
      "metadata": {
        "id": "u4c5YQ6nQOEq"
      },
      "outputs": [],
      "source": [
        "pickle.dump(k_means, open(\"./drive/MyDrive/k_means.pickle\", \"wb\"))\n",
        "X_export.to_csv(\"./drive/MyDrive/cluster.csv\",index=False)\n",
        "X_export.to_json(\"./drive/MyDrive/cluster.json\")"
      ]
    },
    {
      "cell_type": "code",
      "execution_count": null,
      "metadata": {
        "id": "V9WWB27SQdeW"
      },
      "outputs": [],
      "source": []
    }
  ],
  "metadata": {
    "accelerator": "GPU",
    "colab": {
      "collapsed_sections": [],
      "name": "Amazon_product_sentiment_analysis.ipynb",
      "provenance": []
    },
    "kernelspec": {
      "display_name": "Python 3",
      "name": "python3"
    },
    "language_info": {
      "name": "python"
    }
  },
  "nbformat": 4,
  "nbformat_minor": 0
}
